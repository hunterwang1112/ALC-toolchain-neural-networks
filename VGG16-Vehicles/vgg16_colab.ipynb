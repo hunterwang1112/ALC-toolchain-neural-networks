{
 "nbformat": 4,
 "nbformat_minor": 0,
 "metadata": {
  "colab": {
   "name": "VGG.ipynb",
   "provenance": [],
   "collapsed_sections": []
  },
  "kernelspec": {
   "name": "python3",
   "display_name": "Python 3"
  },
  "accelerator": "GPU"
 },
 "cells": [
  {
   "cell_type": "code",
   "metadata": {
    "id": "g5mek7ngeZOp",
    "colab_type": "code",
    "colab": {
     "base_uri": "https://localhost:8080/",
     "height": 34
    },
    "outputId": "da73affd-a699-4aa3-a8bf-ce0cfd0f34f6"
   },
   "source": [
    "import keras, os\n",
    "from keras.models import Sequential\n",
    "from keras.layers import Dense, Conv2D, MaxPool2D, Flatten\n",
    "from keras.preprocessing.image import ImageDataGenerator\n",
    "from keras.optimizers import Adam\n",
    "from keras.callbacks import ModelCheckpoint, EarlyStopping\n",
    "import matplotlib.pyplot as plt\n",
    "import numpy as np"
   ],
   "execution_count": null,
   "outputs": [
    {
     "output_type": "stream",
     "text": [
      "Using TensorFlow backend.\n"
     ],
     "name": "stderr"
    }
   ]
  },
  {
   "cell_type": "code",
   "metadata": {
    "id": "RVwTmD2Lfi_j",
    "colab_type": "code",
    "colab": {
     "base_uri": "https://localhost:8080/",
     "height": 139
    },
    "outputId": "3bb5ec71-f484-4224-8e53-f7f1b562c911"
   },
   "source": [
    "from google.colab import drive\n",
    "drive.mount('/content/drive')\n",
    "!ls \"/content/drive/My Drive/Colab Notebooks\""
   ],
   "execution_count": null,
   "outputs": [
    {
     "output_type": "stream",
     "text": [
      "Go to this URL in a browser: https://accounts.google.com/o/oauth2/auth?client_id=947318989803-6bn6qk8qdgf4n4g3pfee6491hc0brc4i.apps.googleusercontent.com&redirect_uri=urn%3aietf%3awg%3aoauth%3a2.0%3aoob&response_type=code&scope=email%20https%3a%2f%2fwww.googleapis.com%2fauth%2fdocs.test%20https%3a%2f%2fwww.googleapis.com%2fauth%2fdrive%20https%3a%2f%2fwww.googleapis.com%2fauth%2fdrive.photos.readonly%20https%3a%2f%2fwww.googleapis.com%2fauth%2fpeopleapi.readonly\n",
      "\n",
      "Enter your authorization code:\n",
      "··········\n",
      "Mounted at /content/drive\n",
      "data  test  test_ford  validation  VGG.ipynb\n"
     ],
     "name": "stdout"
    }
   ]
  },
  {
   "cell_type": "code",
   "metadata": {
    "id": "92Fx90uqe8sJ",
    "colab_type": "code",
    "colab": {
     "base_uri": "https://localhost:8080/",
     "height": 51
    },
    "outputId": "dacaaf8b-648e-46b6-c27b-e30b4ae9f291"
   },
   "source": [
    "trdata = ImageDataGenerator()\n",
    "traindata = trdata.flow_from_directory(directory=\"/content/drive/My Drive/Colab Notebooks/data\", target_size=(224,224))\n",
    "valdata = ImageDataGenerator()\n",
    "valtdata = valdata.flow_from_directory(directory=\"/content/drive/My Drive/Colab Notebooks/validation\", target_size=(224,224))"
   ],
   "execution_count": null,
   "outputs": [
    {
     "output_type": "stream",
     "text": [
      "Found 5825 images belonging to 2 classes.\n",
      "Found 750 images belonging to 2 classes.\n"
     ],
     "name": "stdout"
    }
   ]
  },
  {
   "cell_type": "code",
   "metadata": {
    "id": "62CAxQVMfAiN",
    "colab_type": "code",
    "colab": {}
   },
   "source": [
    "model = Sequential()\n",
    "model.add(Conv2D(input_shape=(224, 224, 3), filters=64, kernel_size=(3, 3), padding=\"same\", activation=\"relu\"))\n",
    "model.add(Conv2D(filters=64, kernel_size=(3, 3), padding=\"same\", activation=\"relu\"))\n",
    "model.add(MaxPool2D(pool_size=(2, 2), strides=(2, 2)))\n",
    "\n",
    "model.add(Conv2D(filters=128, kernel_size=(3, 3), padding=\"same\", activation=\"relu\"))\n",
    "model.add(Conv2D(filters=128, kernel_size=(3, 3), padding=\"same\", activation=\"relu\"))\n",
    "model.add(MaxPool2D(pool_size=(2, 2), strides=(2, 2)))\n",
    "\n",
    "model.add(Conv2D(filters=256, kernel_size=(3, 3), padding=\"same\", activation=\"relu\"))\n",
    "model.add(Conv2D(filters=256, kernel_size=(3, 3), padding=\"same\", activation=\"relu\"))\n",
    "model.add(Conv2D(filters=256, kernel_size=(3, 3), padding=\"same\", activation=\"relu\"))\n",
    "model.add(MaxPool2D(pool_size=(2, 2), strides=(2, 2)))\n",
    "\n",
    "model.add(Conv2D(filters=512, kernel_size=(3, 3), padding=\"same\", activation=\"relu\"))\n",
    "model.add(Conv2D(filters=512, kernel_size=(3, 3), padding=\"same\", activation=\"relu\"))\n",
    "model.add(Conv2D(filters=512, kernel_size=(3, 3), padding=\"same\", activation=\"relu\"))\n",
    "model.add(MaxPool2D(pool_size=(2, 2), strides=(2, 2)))\n",
    "\n",
    "model.add(Conv2D(filters=512, kernel_size=(3, 3), padding=\"same\", activation=\"relu\"))\n",
    "model.add(Conv2D(filters=512, kernel_size=(3, 3), padding=\"same\", activation=\"relu\"))\n",
    "model.add(Conv2D(filters=512, kernel_size=(3, 3), padding=\"same\", activation=\"relu\"))\n",
    "model.add(MaxPool2D(pool_size=(2, 2), strides=(2, 2)))\n",
    "\n",
    "model.add(Flatten())\n",
    "model.add(Dense(units=4096, activation=\"relu\"))\n",
    "model.add(Dense(units=4096, activation=\"relu\"))\n",
    "model.add(Dense(units=2, activation=\"softmax\"))"
   ],
   "execution_count": null,
   "outputs": []
  },
  {
   "cell_type": "code",
   "metadata": {
    "id": "p6R1jjPffEa_",
    "colab_type": "code",
    "colab": {
     "base_uri": "https://localhost:8080/",
     "height": 901
    },
    "outputId": "d240dce9-6a1d-4614-dc00-3af5bad3eec6"
   },
   "source": [
    "opt = Adam(lr=0.000005)\n",
    "model.compile(optimizer=opt, loss=keras.losses.categorical_crossentropy, metrics=['accuracy'])\n",
    "\n",
    "model.summary()"
   ],
   "execution_count": null,
   "outputs": [
    {
     "output_type": "stream",
     "text": [
      "Model: \"sequential_1\"\n",
      "_________________________________________________________________\n",
      "Layer (type)                 Output Shape              Param #   \n",
      "=================================================================\n",
      "conv2d_1 (Conv2D)            (None, 224, 224, 64)      1792      \n",
      "_________________________________________________________________\n",
      "conv2d_2 (Conv2D)            (None, 224, 224, 64)      36928     \n",
      "_________________________________________________________________\n",
      "max_pooling2d_1 (MaxPooling2 (None, 112, 112, 64)      0         \n",
      "_________________________________________________________________\n",
      "conv2d_3 (Conv2D)            (None, 112, 112, 128)     73856     \n",
      "_________________________________________________________________\n",
      "conv2d_4 (Conv2D)            (None, 112, 112, 128)     147584    \n",
      "_________________________________________________________________\n",
      "max_pooling2d_2 (MaxPooling2 (None, 56, 56, 128)       0         \n",
      "_________________________________________________________________\n",
      "conv2d_5 (Conv2D)            (None, 56, 56, 256)       295168    \n",
      "_________________________________________________________________\n",
      "conv2d_6 (Conv2D)            (None, 56, 56, 256)       590080    \n",
      "_________________________________________________________________\n",
      "conv2d_7 (Conv2D)            (None, 56, 56, 256)       590080    \n",
      "_________________________________________________________________\n",
      "max_pooling2d_3 (MaxPooling2 (None, 28, 28, 256)       0         \n",
      "_________________________________________________________________\n",
      "conv2d_8 (Conv2D)            (None, 28, 28, 512)       1180160   \n",
      "_________________________________________________________________\n",
      "conv2d_9 (Conv2D)            (None, 28, 28, 512)       2359808   \n",
      "_________________________________________________________________\n",
      "conv2d_10 (Conv2D)           (None, 28, 28, 512)       2359808   \n",
      "_________________________________________________________________\n",
      "max_pooling2d_4 (MaxPooling2 (None, 14, 14, 512)       0         \n",
      "_________________________________________________________________\n",
      "conv2d_11 (Conv2D)           (None, 14, 14, 512)       2359808   \n",
      "_________________________________________________________________\n",
      "conv2d_12 (Conv2D)           (None, 14, 14, 512)       2359808   \n",
      "_________________________________________________________________\n",
      "conv2d_13 (Conv2D)           (None, 14, 14, 512)       2359808   \n",
      "_________________________________________________________________\n",
      "max_pooling2d_5 (MaxPooling2 (None, 7, 7, 512)         0         \n",
      "_________________________________________________________________\n",
      "flatten_1 (Flatten)          (None, 25088)             0         \n",
      "_________________________________________________________________\n",
      "dense_1 (Dense)              (None, 4096)              102764544 \n",
      "_________________________________________________________________\n",
      "dense_2 (Dense)              (None, 4096)              16781312  \n",
      "_________________________________________________________________\n",
      "dense_3 (Dense)              (None, 2)                 8194      \n",
      "=================================================================\n",
      "Total params: 134,268,738\n",
      "Trainable params: 134,268,738\n",
      "Non-trainable params: 0\n",
      "_________________________________________________________________\n"
     ],
     "name": "stdout"
    }
   ]
  },
  {
   "cell_type": "code",
   "metadata": {
    "id": "e7d-ScoLfHCn",
    "colab_type": "code",
    "colab": {
     "base_uri": "https://localhost:8080/",
     "height": 1000
    },
    "outputId": "40b49c0f-e532-48db-c144-19c4d3bf7519"
   },
   "source": [
    "import time\n",
    "checkpoint = ModelCheckpoint(\"vgg16_1.h5\", monitor='val_accuracy', verbose=1, save_best_only=True, save_weights_only=False, mode='auto', period=1)\n",
    "early = EarlyStopping(monitor='val_accuracy', min_delta=0, patience=20, verbose=1, mode='auto')\n",
    "start_time = time.time()\n",
    "hist = model.fit_generator(steps_per_epoch=7, generator=traindata, validation_data=valdata, validation_steps=10, epochs=100, callbacks=[checkpoint, early])\n",
    "print(\"--- %s seconds ---\" % (time.time() - start_time))"
   ],
   "execution_count": null,
   "outputs": [
    {
     "output_type": "stream",
     "text": [
      "Epoch 1/100\n",
      "7/7 [==============================] - 202s 29s/step - loss: 0.6318 - accuracy: 0.6607 - val_loss: 0.4983 - val_accuracy: 0.8719\n",
      "\n",
      "Epoch 00001: val_accuracy improved from -inf to 0.87187, saving model to vgg16_1.h5\n",
      "Epoch 2/100\n",
      "7/7 [==============================] - 205s 29s/step - loss: 0.5049 - accuracy: 0.8170 - val_loss: 0.2589 - val_accuracy: 0.8750\n",
      "\n",
      "Epoch 00002: val_accuracy improved from 0.87187 to 0.87500, saving model to vgg16_1.h5\n",
      "Epoch 3/100\n",
      "7/7 [==============================] - 65s 9s/step - loss: 0.3816 - accuracy: 0.8616 - val_loss: 0.2616 - val_accuracy: 0.8775\n",
      "\n",
      "Epoch 00003: val_accuracy improved from 0.87500 to 0.87748, saving model to vgg16_1.h5\n",
      "Epoch 4/100\n",
      "7/7 [==============================] - 82s 12s/step - loss: 0.3502 - accuracy: 0.8304 - val_loss: 0.1894 - val_accuracy: 0.8562\n",
      "\n",
      "Epoch 00004: val_accuracy did not improve from 0.87748\n",
      "Epoch 5/100\n",
      "7/7 [==============================] - 139s 20s/step - loss: 0.2670 - accuracy: 0.9062 - val_loss: 0.1930 - val_accuracy: 0.9040\n",
      "\n",
      "Epoch 00005: val_accuracy improved from 0.87748 to 0.90397, saving model to vgg16_1.h5\n",
      "Epoch 6/100\n",
      "7/7 [==============================] - 135s 19s/step - loss: 0.2593 - accuracy: 0.9107 - val_loss: 0.7360 - val_accuracy: 0.7406\n",
      "\n",
      "Epoch 00006: val_accuracy did not improve from 0.90397\n",
      "Epoch 7/100\n",
      "7/7 [==============================] - 139s 20s/step - loss: 0.2886 - accuracy: 0.8884 - val_loss: 0.3906 - val_accuracy: 0.8469\n",
      "\n",
      "Epoch 00007: val_accuracy did not improve from 0.90397\n",
      "Epoch 8/100\n",
      "7/7 [==============================] - 146s 21s/step - loss: 0.3166 - accuracy: 0.8348 - val_loss: 0.3098 - val_accuracy: 0.8609\n",
      "\n",
      "Epoch 00008: val_accuracy did not improve from 0.90397\n",
      "Epoch 9/100\n",
      "4/7 [================>.............] - ETA: 1:06 - loss: 0.2931 - accuracy: 0.8828"
     ],
     "name": "stdout"
    },
    {
     "output_type": "stream",
     "text": [
      "/usr/local/lib/python3.6/dist-packages/keras/utils/data_utils.py:616: UserWarning: The input 159 could not be retrieved. It could be because a worker has died.\n",
      "  UserWarning)\n"
     ],
     "name": "stderr"
    },
    {
     "output_type": "stream",
     "text": [
      "7/7 [==============================] - 163s 23s/step - loss: 0.2520 - accuracy: 0.9018 - val_loss: 0.4013 - val_accuracy: 0.8938\n",
      "\n",
      "Epoch 00009: val_accuracy did not improve from 0.90397\n",
      "Epoch 10/100\n",
      "7/7 [==============================] - 145s 21s/step - loss: 0.1849 - accuracy: 0.9464 - val_loss: 0.2528 - val_accuracy: 0.8841\n",
      "\n",
      "Epoch 00010: val_accuracy did not improve from 0.90397\n",
      "Epoch 11/100\n",
      "7/7 [==============================] - 140s 20s/step - loss: 0.2504 - accuracy: 0.9152 - val_loss: 0.3650 - val_accuracy: 0.9000\n",
      "\n",
      "Epoch 00011: val_accuracy did not improve from 0.90397\n",
      "Epoch 12/100\n",
      "7/7 [==============================] - 141s 20s/step - loss: 0.2246 - accuracy: 0.9018 - val_loss: 0.1485 - val_accuracy: 0.8907\n",
      "\n",
      "Epoch 00012: val_accuracy did not improve from 0.90397\n",
      "Epoch 13/100\n",
      "7/7 [==============================] - 142s 20s/step - loss: 0.1927 - accuracy: 0.9375 - val_loss: 0.2900 - val_accuracy: 0.7969\n",
      "\n",
      "Epoch 00013: val_accuracy did not improve from 0.90397\n",
      "Epoch 14/100\n",
      "7/7 [==============================] - 135s 19s/step - loss: 0.1560 - accuracy: 0.9420 - val_loss: 0.4464 - val_accuracy: 0.9094\n",
      "\n",
      "Epoch 00014: val_accuracy improved from 0.90397 to 0.90938, saving model to vgg16_1.h5\n",
      "Epoch 15/100\n",
      "7/7 [==============================] - 141s 20s/step - loss: 0.1660 - accuracy: 0.9330 - val_loss: 0.4933 - val_accuracy: 0.8477\n",
      "\n",
      "Epoch 00015: val_accuracy did not improve from 0.90938\n",
      "Epoch 16/100\n",
      "7/7 [==============================] - 139s 20s/step - loss: 0.1281 - accuracy: 0.9598 - val_loss: 0.1560 - val_accuracy: 0.9219\n",
      "\n",
      "Epoch 00016: val_accuracy improved from 0.90938 to 0.92188, saving model to vgg16_1.h5\n",
      "Epoch 17/100\n",
      "7/7 [==============================] - 137s 20s/step - loss: 0.1277 - accuracy: 0.9509 - val_loss: 0.4528 - val_accuracy: 0.8179\n",
      "\n",
      "Epoch 00017: val_accuracy did not improve from 0.92188\n",
      "Epoch 18/100\n",
      "7/7 [==============================] - 144s 21s/step - loss: 0.1473 - accuracy: 0.9330 - val_loss: 0.1799 - val_accuracy: 0.9438\n",
      "\n",
      "Epoch 00018: val_accuracy improved from 0.92188 to 0.94375, saving model to vgg16_1.h5\n",
      "Epoch 19/100\n",
      "7/7 [==============================] - 141s 20s/step - loss: 0.1804 - accuracy: 0.9420 - val_loss: 0.1896 - val_accuracy: 0.9187\n",
      "\n",
      "Epoch 00019: val_accuracy did not improve from 0.94375\n",
      "Epoch 20/100\n",
      "7/7 [==============================] - 145s 21s/step - loss: 0.0999 - accuracy: 0.9688 - val_loss: 0.0805 - val_accuracy: 0.8377\n",
      "\n",
      "Epoch 00020: val_accuracy did not improve from 0.94375\n",
      "Epoch 21/100\n",
      "7/7 [==============================] - 140s 20s/step - loss: 0.1572 - accuracy: 0.9375 - val_loss: 0.2127 - val_accuracy: 0.9062\n",
      "\n",
      "Epoch 00021: val_accuracy did not improve from 0.94375\n",
      "Epoch 22/100\n",
      "7/7 [==============================] - 146s 21s/step - loss: 0.1146 - accuracy: 0.9598 - val_loss: 0.4015 - val_accuracy: 0.8477\n",
      "\n",
      "Epoch 00022: val_accuracy did not improve from 0.94375\n",
      "Epoch 23/100\n",
      "7/7 [==============================] - 143s 20s/step - loss: 0.0913 - accuracy: 0.9643 - val_loss: 0.2753 - val_accuracy: 0.9125\n",
      "\n",
      "Epoch 00023: val_accuracy did not improve from 0.94375\n",
      "Epoch 24/100\n",
      "4/7 [================>.............] - ETA: 58s - loss: 0.1243 - accuracy: 0.9297 "
     ],
     "name": "stdout"
    },
    {
     "output_type": "stream",
     "text": [
      "/usr/local/lib/python3.6/dist-packages/keras/utils/data_utils.py:616: UserWarning: The input 165 could not be retrieved. It could be because a worker has died.\n",
      "  UserWarning)\n"
     ],
     "name": "stderr"
    },
    {
     "output_type": "stream",
     "text": [
      "7/7 [==============================] - 202s 29s/step - loss: 0.2171 - accuracy: 0.9152 - val_loss: 0.0630 - val_accuracy: 0.8642\n",
      "\n",
      "Epoch 00024: val_accuracy did not improve from 0.94375\n",
      "Epoch 25/100\n",
      "7/7 [==============================] - 117s 17s/step - loss: 0.0944 - accuracy: 0.9689 - val_loss: 0.2366 - val_accuracy: 0.9156\n",
      "\n",
      "Epoch 00025: val_accuracy did not improve from 0.94375\n",
      "Epoch 26/100\n",
      "3/7 [===========>..................] - ETA: 1:18 - loss: 0.1074 - accuracy: 0.9792"
     ],
     "name": "stdout"
    },
    {
     "output_type": "stream",
     "text": [
      "/usr/local/lib/python3.6/dist-packages/keras/utils/data_utils.py:616: UserWarning: The input 176 could not be retrieved. It could be because a worker has died.\n",
      "  UserWarning)\n"
     ],
     "name": "stderr"
    },
    {
     "output_type": "stream",
     "text": [
      "7/7 [==============================] - 203s 29s/step - loss: 0.1151 - accuracy: 0.9688 - val_loss: 0.0462 - val_accuracy: 0.8719\n",
      "\n",
      "Epoch 00026: val_accuracy did not improve from 0.94375\n",
      "Epoch 27/100\n",
      "7/7 [==============================] - 21s 3s/step - loss: 0.1071 - accuracy: 0.9598 - val_loss: 0.3370 - val_accuracy: 0.9007\n",
      "\n",
      "Epoch 00027: val_accuracy did not improve from 0.94375\n",
      "Epoch 28/100\n",
      "7/7 [==============================] - 3s 373ms/step - loss: 0.1377 - accuracy: 0.9554 - val_loss: 0.1710 - val_accuracy: 0.9187\n",
      "\n",
      "Epoch 00028: val_accuracy did not improve from 0.94375\n",
      "Epoch 29/100\n",
      "7/7 [==============================] - 3s 370ms/step - loss: 0.0813 - accuracy: 0.9777 - val_loss: 0.2864 - val_accuracy: 0.9205\n",
      "\n",
      "Epoch 00029: val_accuracy did not improve from 0.94375\n",
      "Epoch 30/100\n",
      "7/7 [==============================] - 3s 378ms/step - loss: 0.0992 - accuracy: 0.9643 - val_loss: 0.2330 - val_accuracy: 0.9031\n",
      "\n",
      "Epoch 00030: val_accuracy did not improve from 0.94375\n",
      "Epoch 31/100\n",
      "7/7 [==============================] - 2s 341ms/step - loss: 0.0826 - accuracy: 0.9689 - val_loss: 0.5371 - val_accuracy: 0.9094\n",
      "\n",
      "Epoch 00031: val_accuracy did not improve from 0.94375\n",
      "Epoch 32/100\n",
      "7/7 [==============================] - 3s 370ms/step - loss: 0.0732 - accuracy: 0.9643 - val_loss: 0.2065 - val_accuracy: 0.9007\n",
      "\n",
      "Epoch 00032: val_accuracy did not improve from 0.94375\n",
      "Epoch 33/100\n",
      "7/7 [==============================] - 3s 372ms/step - loss: 0.0901 - accuracy: 0.9554 - val_loss: 0.1697 - val_accuracy: 0.9125\n",
      "\n",
      "Epoch 00033: val_accuracy did not improve from 0.94375\n",
      "Epoch 34/100\n",
      "7/7 [==============================] - 3s 369ms/step - loss: 0.1166 - accuracy: 0.9509 - val_loss: 0.1927 - val_accuracy: 0.8609\n",
      "\n",
      "Epoch 00034: val_accuracy did not improve from 0.94375\n",
      "Epoch 35/100\n",
      "7/7 [==============================] - 3s 374ms/step - loss: 0.0839 - accuracy: 0.9688 - val_loss: 0.0969 - val_accuracy: 0.9031\n",
      "\n",
      "Epoch 00035: val_accuracy did not improve from 0.94375\n",
      "Epoch 36/100\n",
      "7/7 [==============================] - 3s 366ms/step - loss: 0.1224 - accuracy: 0.9464 - val_loss: 0.0960 - val_accuracy: 0.9238\n",
      "\n",
      "Epoch 00036: val_accuracy did not improve from 0.94375\n",
      "Epoch 37/100\n",
      "7/7 [==============================] - 3s 375ms/step - loss: 0.1205 - accuracy: 0.9777 - val_loss: 0.1823 - val_accuracy: 0.9000\n",
      "\n",
      "Epoch 00037: val_accuracy did not improve from 0.94375\n",
      "Epoch 38/100\n",
      "7/7 [==============================] - 3s 373ms/step - loss: 0.0876 - accuracy: 0.9688 - val_loss: 0.5723 - val_accuracy: 0.9156\n",
      "\n",
      "Epoch 00038: val_accuracy did not improve from 0.94375\n",
      "Epoch 00038: early stopping\n",
      "--- 3884.5418033599854 seconds ---\n"
     ],
     "name": "stdout"
    }
   ]
  },
  {
   "cell_type": "code",
   "metadata": {
    "id": "Es9xzAxpfJJh",
    "colab_type": "code",
    "colab": {
     "base_uri": "https://localhost:8080/",
     "height": 295
    },
    "outputId": "5a63e44a-05d7-4248-e382-e7085abde658"
   },
   "source": [
    "plt.plot(hist.history['accuracy'])\n",
    "plt.plot(hist.history['val_accuracy'])\n",
    "plt.plot(hist.history[\"loss\"])\n",
    "plt.plot(hist.history['val_loss'])\n",
    "plt.title(\"model accuracy\")\n",
    "plt.ylabel(\"Accuracy\")\n",
    "plt.xlabel(\"Epoch\")\n",
    "plt.legend([\"Accuracy\",\"Validation Accuracy\",\"Loss\",\"Validation Loss\"])\n",
    "plt.show()"
   ],
   "execution_count": null,
   "outputs": [
    {
     "output_type": "display_data",
     "data": {
      "image/png": "[encoded data removed]",
      "text/plain": [
       "<Figure size 432x288 with 1 Axes>"
      ]
     },
     "metadata": {
      "tags": [],
      "needs_background": "light"
     }
    }
   ]
  },
  {
   "cell_type": "code",
   "metadata": {
    "id": "Gx14qEYUE9EW",
    "colab_type": "code",
    "colab": {
     "base_uri": "https://localhost:8080/",
     "height": 68
    },
    "outputId": "3533385c-2f6a-4bb0-c32a-b9819c51aead"
   },
   "source": [
    "from keras.models import load_model\n",
    "saved_model = load_model(\"vgg16_1.h5\")\n",
    "\n",
    "test_datagen = ImageDataGenerator()\n",
    "test_generator = test_datagen.flow_from_directory(directory=\"/content/drive/My Drive/Colab Notebooks/test\", target_size=(224,224))\n",
    "score, acc = saved_model.evaluate_generator(test_generator)\n",
    "print('Test score:', score)\n",
    "print('Test accuracy:', acc)"
   ],
   "execution_count": null,
   "outputs": [
    {
     "output_type": "stream",
     "text": [
      "Found 750 images belonging to 2 classes.\n",
      "Test score: 0.1041625589132309\n",
      "Test accuracy: 0.9666666388511658\n"
     ],
     "name": "stdout"
    }
   ]
  },
  {
   "cell_type": "code",
   "metadata": {
    "id": "nHnPVmLXkP0Q",
    "colab_type": "code",
    "colab": {
     "base_uri": "https://localhost:8080/",
     "height": 68
    },
    "outputId": "50466d87-bfd1-4cd6-ec2b-43518bdfb4bc"
   },
   "source": [
    "# test_datagen_ford = ImageDataGenerator()\n",
    "# test_generator_ford = test_datagen.flow_from_directory(directory=\"/content/drive/My Drive/Colab Notebooks/test_ford\", target_size=(224,224))\n",
    "# score_ford, acc_ford = saved_model.evaluate_generator(test_generator)\n",
    "# print('Test score:', score_ford)\n",
    "# print('Test accuracy:', acc_ford)"
   ],
   "execution_count": null,
   "outputs": [
    {
     "output_type": "stream",
     "text": [
      "Found 740 images belonging to 2 classes.\n",
      "Test score: 0.0567002110183239\n",
      "Test accuracy: 0.9702702760696411\n"
     ],
     "name": "stdout"
    }
   ]
  }
 ]
}