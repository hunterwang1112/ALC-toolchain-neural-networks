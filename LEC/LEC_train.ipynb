{
 "cells": [
  {
   "cell_type": "code",
   "execution_count": 3,
   "metadata": {},
   "outputs": [
    {
     "name": "stdout",
     "output_type": "stream",
     "text": [
      "finished\n"
     ]
    }
   ],
   "source": [
    "#libraries\n",
    "import keras\n",
    "import tensorflow as tf\n",
    "#tf.executing_eagerly()\n",
    "from keras import backend as K\n",
    "import cv2\n",
    "import os\n",
    "import numpy as np\n",
    "from keras.optimizers import Adam,SGD\n",
    "#from keras.optimizers import rmsprop\n",
    "from keras.models import model_from_json, load_model\n",
    "from keras.layers import Input, Dense\n",
    "from keras.models import Model,Sequential\n",
    "from sklearn.model_selection import train_test_split\n",
    "from keras.layers import Convolution2D #as Conv2D\n",
    "from keras.layers.convolutional import Deconv2D as Conv2DTranspose\n",
    "from keras.layers import Lambda, Input, Dense, MaxPooling2D, BatchNormalization,Input\n",
    "from keras.layers import UpSampling2D, Dropout, Flatten, Reshape, RepeatVector, LeakyReLU,Activation\n",
    "from keras.callbacks import ModelCheckpoint, EarlyStopping, TensorBoard\n",
    "#from keras.losses import mse, binary_crossentropy\n",
    "keras.callbacks.TerminateOnNaN()\n",
    "seed = 7\n",
    "np.random.seed(seed)\n",
    "from keras.callbacks import CSVLogger\n",
    "print('finished')"
   ]
  },
  {
   "cell_type": "code",
   "execution_count": 4,
   "metadata": {},
   "outputs": [
    {
     "name": "stdout",
     "output_type": "stream",
     "text": [
      "finished\n"
     ]
    }
   ],
   "source": [
    "os.environ[\"CUDA_VISIBLE_DEVICES\"]=\"1,2\"#Setting the script to run on GPU:1,2\n",
    "print('finished')"
   ]
  },
  {
   "cell_type": "code",
   "execution_count": 5,
   "metadata": {},
   "outputs": [
    {
     "name": "stdout",
     "output_type": "stream",
     "text": [
      "finished\n"
     ]
    }
   ],
   "source": [
    "import os\n",
    "import sys\n",
    "import cv2\n",
    "import csv\n",
    "import glob\n",
    "import numpy as np\n",
    "import time\n",
    "from sklearn.utils import shuffle\n",
    "\n",
    "# path to USB\n",
    "USBPath = \"/home/scope/Carla/CARLA_0.9.6/PythonAPI/new/dataset/\"\n",
    "trainingFolders = [\"road1_rgb_center\",\"road1_rgb_center1\",\"road1_rgb_left\",\"road1_rgb_left1\",\"road1_rgb_right\",\"road1_rgb_right1\"]\n",
    "outputcsvs = [\"road1_rgb_center.csv\",\"road1_rgb_center1.csv\",\"road1_rgb_left.csv\",\"road1_rgb_left1.csv\",\"road1_rgb_right.csv\",\"road1_rgb_right1.csv\"]\n",
    "history = CSVLogger(USBPath + 'model/kerasloss.csv', append=True, separator=';')\n",
    "path = 'Test1'\n",
    "\n",
    "#Load complete input images without shuffling\n",
    "def load_images():\n",
    "    inputs = []\n",
    "    numImages = len(glob.glob1(path,'*.jpg'))\n",
    "    for i in range(0, numImages):\n",
    "    #for img in glob.glob(path+'*.png'):\n",
    "        img = cv2.imread(path+\"/frame%d.jpg\"%i) #path+\"/frame%d.png\"%i\n",
    "        #print(img)\n",
    "        img = cv2.resize(img, (200,66))\n",
    "        img = img /255.\n",
    "        inputs.append(img)\n",
    "    #inpu = shuffle(inputs)\n",
    "    #print(inputs)\n",
    "    print(\"Total number of images:%d\" %(numImages))\n",
    "    return np.array(inputs)\n",
    "\n",
    "# def createFolderPaths(folders):\n",
    "#     paths = []\n",
    "#     for folder in folders:\n",
    "#         path = USBPath + folder + '/'\n",
    "#         paths.append(path)\n",
    "#     return paths\n",
    "\n",
    "# def load_training_images():\n",
    "#     paths = createFolderPaths(trainingFolders)\n",
    "#     return load_images(paths)\n",
    "\n",
    "def load_steering_value():\n",
    "    miny= -1\n",
    "    maxy= 1\n",
    "    Y=[]\n",
    "    dataset = path + '/ProcessData.csv'\n",
    "    with open(dataset, 'rt') as csvfile:\n",
    "          reader = csv.reader(csvfile)\n",
    "          for row in reader:\n",
    "            output=[]\n",
    "            x=(float(row[1])-miny)/(maxy-miny)\n",
    "            output.append(x)\n",
    "            Y.append(output)\n",
    "    return Y       \n",
    "\n",
    "print('finished')"
   ]
  },
  {
   "cell_type": "code",
   "execution_count": 6,
   "metadata": {},
   "outputs": [
    {
     "name": "stdout",
     "output_type": "stream",
     "text": [
      "Total number of images:3000\n",
      "Total Steering values:3000\n",
      "3000\n",
      "3000\n",
      "finished\n"
     ]
    }
   ],
   "source": [
    "#Loading images from the datasets\n",
    "image_input = load_images()     #load_training_images()\n",
    "steer_output = load_steering_value()\n",
    "print(\"Total Steering values:%d\"%len(steer_output))\n",
    "#image_input = np.array(image_input)\n",
    "steer_output = np.array(steer_output)\n",
    "print(len(image_input))\n",
    "print(len(steer_output))\n",
    "print('finished')"
   ]
  },
  {
   "cell_type": "code",
   "execution_count": 7,
   "metadata": {},
   "outputs": [],
   "source": [
    "def createModel():\n",
    "    # NVidia DAVE-2\n",
    "    dave2 = Sequential()\n",
    "\n",
    "    # batch regularization to reduce internal covariate shift\n",
    "    dave2.add(BatchNormalization(input_shape=(66, 200, 3)))\n",
    "\n",
    "    # 200x66x3 -> 98x31x24, 5x5 convolution\n",
    "    dave2.add(Convolution2D(24, 5, 5, border_mode=\"valid\", input_shape=(66, 200, 3), dim_ordering=\"tf\"))\n",
    "    dave2.add(Activation(\"relu\"))\n",
    "    dave2.add(MaxPooling2D(pool_size=(2, 2), strides=(2, 2), border_mode=\"same\"))\n",
    "\n",
    "    # 98x31x24 -> 47x14x36, 5x5 convolution\n",
    "    dave2.add(Convolution2D(36, 5, 5, border_mode=\"valid\"))\n",
    "    dave2.add(Activation(\"relu\"))\n",
    "    dave2.add(MaxPooling2D(pool_size=(2, 2), strides=(2, 2), border_mode=\"same\"))\n",
    "\n",
    "    # 47x14x36 -> 22x5x48, 5x5 convolution\n",
    "    dave2.add(Convolution2D(48, 5, 5, border_mode=\"valid\"))\n",
    "    dave2.add(Activation(\"relu\"))\n",
    "    dave2.add(MaxPooling2D(pool_size=(2, 2), strides=(2, 2), border_mode=\"same\"))\n",
    "\n",
    "    # 22x5x48 -> 20x3x64, 3x3 convolution\n",
    "    dave2.add(Convolution2D(64, 3, 3, border_mode=\"valid\"))\n",
    "    dave2.add(Activation(\"relu\"))\n",
    "    dave2.add(MaxPooling2D(pool_size=(2, 2), strides=(1, 1), border_mode=\"same\"))\n",
    "\n",
    "    # 20x3x64 -> 18x1x64, 3x3 convolution\n",
    "    dave2.add(Convolution2D(64, 3, 3, border_mode=\"valid\"))\n",
    "    dave2.add(Activation(\"relu\"))\n",
    "    dave2.add(MaxPooling2D(pool_size=(2, 2), strides=(1, 1), border_mode=\"same\"))\n",
    "\n",
    "    # flatten\n",
    "    dave2.add(Flatten())\n",
    "\n",
    "    # dense 1164\n",
    "    dave2.add(Dense(1164))\n",
    "    dave2.add(Activation(\"relu\"))\n",
    "    dave2.add(Dropout(0.5))\n",
    "\n",
    "    # dense 100\n",
    "    dave2.add(Dense(100))\n",
    "    dave2.add(Activation(\"relu\"))\n",
    "\n",
    "    # dense 50\n",
    "    dave2.add(Dense(50))\n",
    "\n",
    "    # dense 10\n",
    "    dave2.add(Dense(10))\n",
    "\n",
    "    # dense 1\n",
    "    dave2.add(Dense(1))\n",
    "\n",
    "    #dave2.compile(loss=\"mse\", optimizer=Adam(LEARNING_RATE))\n",
    "\n",
    "    return dave2\n",
    "\n",
    "def trainModel(model, X, Y):\n",
    "    X_train, X_test, Y_train, Y_test = train_test_split(X, Y, test_size=0.15,random_state=42)\n",
    "    #sgd = SGD(lr=1e-3, decay=1e-6, momentum=0.9, nesterov=True)\n",
    "    #model.compile(optimizer=sgd, loss=\"mse\", metrics=['mae', 'acc'])\n",
    "    adam = keras.optimizers.Adam(lr=0.0001, beta_1=0.9, beta_2=0.999, epsilon=None, decay=0.0, amsgrad=False)\n",
    "    model.compile(loss='mse', optimizer=adam)\n",
    "    # checkpoint\n",
    "    filePath = \"/home/scope/Carla/CARLA_0.9.6/PythonAPI/new/model/weights.best.hdf5\"\n",
    "    callbacks_list = [\n",
    "    ModelCheckpoint(filePath, monitor='val_mean_absolute_error', verbose=1, save_best_only=False),\n",
    "    EarlyStopping(monitor='val_mean_absolute_error', patience=10, verbose=0),\n",
    "    TensorBoard(log_dir='./tensorboard/', histogram_freq=0, write_graph=False, write_images=False)\n",
    "    ]\n",
    "#     checkpoint = ModelCheckpoint(filePath, monitor='loss', verbose=1, save_best_only=True, mode='min')\n",
    "#     callbacks_list = [checkpoint, history]\n",
    "    model.fit(X_train, Y_train, epochs=1000, batch_size=128,validation_data=(X_test, Y_test),callbacks=callbacks_list, verbose=2)\n",
    "    \n",
    "\n",
    "def saveModel(model):\n",
    "\tmodel_json = model.to_json()\n",
    "\twith open(\"/home/scope/Carla/CARLA_0.9.6/PythonAPI/new/model/model.json\", \"w\") as json_file:\n",
    "\t\tjson_file.write(model_json)\n",
    "\n",
    "\tmodel.save_weights(\"/home/scope/Carla/CARLA_0.9.6/PythonAPI/new/model/model.h5\")\n",
    "\tprint(\"Saved model to disk\")"
   ]
  },
  {
   "cell_type": "code",
   "execution_count": 6,
   "metadata": {},
   "outputs": [
    {
     "ename": "TypeError",
     "evalue": "('Keyword argument not understood:', 'border_mode')",
     "output_type": "error",
     "traceback": [
      "\u001B[0;31m---------------------------------------------------------------------------\u001B[0m",
      "\u001B[0;31mTypeError\u001B[0m                                 Traceback (most recent call last)",
      "\u001B[0;32m<ipython-input-6-245c2292de2d>\u001B[0m in \u001B[0;36m<module>\u001B[0;34m\u001B[0m\n\u001B[0;32m----> 1\u001B[0;31m \u001B[0mmodel\u001B[0m \u001B[0;34m=\u001B[0m \u001B[0mcreateModel\u001B[0m\u001B[0;34m(\u001B[0m\u001B[0;34m)\u001B[0m\u001B[0;34m\u001B[0m\u001B[0;34m\u001B[0m\u001B[0m\n\u001B[0m\u001B[1;32m      2\u001B[0m \u001B[0mprint\u001B[0m\u001B[0;34m(\u001B[0m\u001B[0;34m\"create a new model\"\u001B[0m\u001B[0;34m)\u001B[0m\u001B[0;34m\u001B[0m\u001B[0;34m\u001B[0m\u001B[0m\n\u001B[1;32m      3\u001B[0m \u001B[0;34m\u001B[0m\u001B[0m\n",
      "\u001B[0;32m<ipython-input-5-0248a04e1358>\u001B[0m in \u001B[0;36mcreateModel\u001B[0;34m()\u001B[0m\n\u001B[1;32m      7\u001B[0m \u001B[0;34m\u001B[0m\u001B[0m\n\u001B[1;32m      8\u001B[0m     \u001B[0;31m# 200x66x3 -> 98x31x24, 5x5 convolution\u001B[0m\u001B[0;34m\u001B[0m\u001B[0;34m\u001B[0m\u001B[0;34m\u001B[0m\u001B[0m\n\u001B[0;32m----> 9\u001B[0;31m     \u001B[0mdave2\u001B[0m\u001B[0;34m.\u001B[0m\u001B[0madd\u001B[0m\u001B[0;34m(\u001B[0m\u001B[0mConvolution2D\u001B[0m\u001B[0;34m(\u001B[0m\u001B[0;36m24\u001B[0m\u001B[0;34m,\u001B[0m \u001B[0;36m5\u001B[0m\u001B[0;34m,\u001B[0m \u001B[0;36m5\u001B[0m\u001B[0;34m,\u001B[0m \u001B[0mborder_mode\u001B[0m\u001B[0;34m=\u001B[0m\u001B[0;34m\"valid\"\u001B[0m\u001B[0;34m,\u001B[0m \u001B[0minput_shape\u001B[0m\u001B[0;34m=\u001B[0m\u001B[0;34m(\u001B[0m\u001B[0;36m66\u001B[0m\u001B[0;34m,\u001B[0m \u001B[0;36m200\u001B[0m\u001B[0;34m,\u001B[0m \u001B[0;36m3\u001B[0m\u001B[0;34m)\u001B[0m\u001B[0;34m,\u001B[0m \u001B[0mdim_ordering\u001B[0m\u001B[0;34m=\u001B[0m\u001B[0;34m\"tf\"\u001B[0m\u001B[0;34m)\u001B[0m\u001B[0;34m)\u001B[0m\u001B[0;34m\u001B[0m\u001B[0;34m\u001B[0m\u001B[0m\n\u001B[0m\u001B[1;32m     10\u001B[0m     \u001B[0mdave2\u001B[0m\u001B[0;34m.\u001B[0m\u001B[0madd\u001B[0m\u001B[0;34m(\u001B[0m\u001B[0mActivation\u001B[0m\u001B[0;34m(\u001B[0m\u001B[0;34m\"relu\"\u001B[0m\u001B[0;34m)\u001B[0m\u001B[0;34m)\u001B[0m\u001B[0;34m\u001B[0m\u001B[0;34m\u001B[0m\u001B[0m\n\u001B[1;32m     11\u001B[0m     \u001B[0mdave2\u001B[0m\u001B[0;34m.\u001B[0m\u001B[0madd\u001B[0m\u001B[0;34m(\u001B[0m\u001B[0mMaxPooling2D\u001B[0m\u001B[0;34m(\u001B[0m\u001B[0mpool_size\u001B[0m\u001B[0;34m=\u001B[0m\u001B[0;34m(\u001B[0m\u001B[0;36m2\u001B[0m\u001B[0;34m,\u001B[0m \u001B[0;36m2\u001B[0m\u001B[0;34m)\u001B[0m\u001B[0;34m,\u001B[0m \u001B[0mstrides\u001B[0m\u001B[0;34m=\u001B[0m\u001B[0;34m(\u001B[0m\u001B[0;36m2\u001B[0m\u001B[0;34m,\u001B[0m \u001B[0;36m2\u001B[0m\u001B[0;34m)\u001B[0m\u001B[0;34m,\u001B[0m \u001B[0mborder_mode\u001B[0m\u001B[0;34m=\u001B[0m\u001B[0;34m\"same\"\u001B[0m\u001B[0;34m)\u001B[0m\u001B[0;34m)\u001B[0m\u001B[0;34m\u001B[0m\u001B[0;34m\u001B[0m\u001B[0m\n",
      "\u001B[0;32m~/opt/anaconda3/lib/python3.7/site-packages/tensorflow/python/keras/layers/convolutional.py\u001B[0m in \u001B[0;36m__init__\u001B[0;34m(self, filters, kernel_size, strides, padding, data_format, dilation_rate, activation, use_bias, kernel_initializer, bias_initializer, kernel_regularizer, bias_regularizer, activity_regularizer, kernel_constraint, bias_constraint, **kwargs)\u001B[0m\n\u001B[1;32m    597\u001B[0m         \u001B[0mkernel_constraint\u001B[0m\u001B[0;34m=\u001B[0m\u001B[0mconstraints\u001B[0m\u001B[0;34m.\u001B[0m\u001B[0mget\u001B[0m\u001B[0;34m(\u001B[0m\u001B[0mkernel_constraint\u001B[0m\u001B[0;34m)\u001B[0m\u001B[0;34m,\u001B[0m\u001B[0;34m\u001B[0m\u001B[0;34m\u001B[0m\u001B[0m\n\u001B[1;32m    598\u001B[0m         \u001B[0mbias_constraint\u001B[0m\u001B[0;34m=\u001B[0m\u001B[0mconstraints\u001B[0m\u001B[0;34m.\u001B[0m\u001B[0mget\u001B[0m\u001B[0;34m(\u001B[0m\u001B[0mbias_constraint\u001B[0m\u001B[0;34m)\u001B[0m\u001B[0;34m,\u001B[0m\u001B[0;34m\u001B[0m\u001B[0;34m\u001B[0m\u001B[0m\n\u001B[0;32m--> 599\u001B[0;31m         **kwargs)\n\u001B[0m\u001B[1;32m    600\u001B[0m \u001B[0;34m\u001B[0m\u001B[0m\n\u001B[1;32m    601\u001B[0m \u001B[0;34m\u001B[0m\u001B[0m\n",
      "\u001B[0;32m~/opt/anaconda3/lib/python3.7/site-packages/tensorflow/python/keras/layers/convolutional.py\u001B[0m in \u001B[0;36m__init__\u001B[0;34m(self, rank, filters, kernel_size, strides, padding, data_format, dilation_rate, activation, use_bias, kernel_initializer, bias_initializer, kernel_regularizer, bias_regularizer, activity_regularizer, kernel_constraint, bias_constraint, trainable, name, **kwargs)\u001B[0m\n\u001B[1;32m    123\u001B[0m         \u001B[0mname\u001B[0m\u001B[0;34m=\u001B[0m\u001B[0mname\u001B[0m\u001B[0;34m,\u001B[0m\u001B[0;34m\u001B[0m\u001B[0;34m\u001B[0m\u001B[0m\n\u001B[1;32m    124\u001B[0m         \u001B[0mactivity_regularizer\u001B[0m\u001B[0;34m=\u001B[0m\u001B[0mregularizers\u001B[0m\u001B[0;34m.\u001B[0m\u001B[0mget\u001B[0m\u001B[0;34m(\u001B[0m\u001B[0mactivity_regularizer\u001B[0m\u001B[0;34m)\u001B[0m\u001B[0;34m,\u001B[0m\u001B[0;34m\u001B[0m\u001B[0;34m\u001B[0m\u001B[0m\n\u001B[0;32m--> 125\u001B[0;31m         **kwargs)\n\u001B[0m\u001B[1;32m    126\u001B[0m     \u001B[0mself\u001B[0m\u001B[0;34m.\u001B[0m\u001B[0mrank\u001B[0m \u001B[0;34m=\u001B[0m \u001B[0mrank\u001B[0m\u001B[0;34m\u001B[0m\u001B[0;34m\u001B[0m\u001B[0m\n\u001B[1;32m    127\u001B[0m     \u001B[0;32mif\u001B[0m \u001B[0mfilters\u001B[0m \u001B[0;32mis\u001B[0m \u001B[0;32mnot\u001B[0m \u001B[0;32mNone\u001B[0m \u001B[0;32mand\u001B[0m \u001B[0;32mnot\u001B[0m \u001B[0misinstance\u001B[0m\u001B[0;34m(\u001B[0m\u001B[0mfilters\u001B[0m\u001B[0;34m,\u001B[0m \u001B[0mint\u001B[0m\u001B[0;34m)\u001B[0m\u001B[0;34m:\u001B[0m\u001B[0;34m\u001B[0m\u001B[0;34m\u001B[0m\u001B[0m\n",
      "\u001B[0;32m~/opt/anaconda3/lib/python3.7/site-packages/tensorflow/python/training/tracking/base.py\u001B[0m in \u001B[0;36m_method_wrapper\u001B[0;34m(self, *args, **kwargs)\u001B[0m\n\u001B[1;32m    454\u001B[0m     \u001B[0mself\u001B[0m\u001B[0;34m.\u001B[0m\u001B[0m_self_setattr_tracking\u001B[0m \u001B[0;34m=\u001B[0m \u001B[0;32mFalse\u001B[0m  \u001B[0;31m# pylint: disable=protected-access\u001B[0m\u001B[0;34m\u001B[0m\u001B[0;34m\u001B[0m\u001B[0m\n\u001B[1;32m    455\u001B[0m     \u001B[0;32mtry\u001B[0m\u001B[0;34m:\u001B[0m\u001B[0;34m\u001B[0m\u001B[0;34m\u001B[0m\u001B[0m\n\u001B[0;32m--> 456\u001B[0;31m       \u001B[0mresult\u001B[0m \u001B[0;34m=\u001B[0m \u001B[0mmethod\u001B[0m\u001B[0;34m(\u001B[0m\u001B[0mself\u001B[0m\u001B[0;34m,\u001B[0m \u001B[0;34m*\u001B[0m\u001B[0margs\u001B[0m\u001B[0;34m,\u001B[0m \u001B[0;34m**\u001B[0m\u001B[0mkwargs\u001B[0m\u001B[0;34m)\u001B[0m\u001B[0;34m\u001B[0m\u001B[0;34m\u001B[0m\u001B[0m\n\u001B[0m\u001B[1;32m    457\u001B[0m     \u001B[0;32mfinally\u001B[0m\u001B[0;34m:\u001B[0m\u001B[0;34m\u001B[0m\u001B[0;34m\u001B[0m\u001B[0m\n\u001B[1;32m    458\u001B[0m       \u001B[0mself\u001B[0m\u001B[0;34m.\u001B[0m\u001B[0m_self_setattr_tracking\u001B[0m \u001B[0;34m=\u001B[0m \u001B[0mprevious_value\u001B[0m  \u001B[0;31m# pylint: disable=protected-access\u001B[0m\u001B[0;34m\u001B[0m\u001B[0;34m\u001B[0m\u001B[0m\n",
      "\u001B[0;32m~/opt/anaconda3/lib/python3.7/site-packages/tensorflow/python/keras/engine/base_layer.py\u001B[0m in \u001B[0;36m__init__\u001B[0;34m(self, trainable, name, dtype, dynamic, **kwargs)\u001B[0m\n\u001B[1;32m    292\u001B[0m     }\n\u001B[1;32m    293\u001B[0m     \u001B[0;31m# Validate optional keyword arguments.\u001B[0m\u001B[0;34m\u001B[0m\u001B[0;34m\u001B[0m\u001B[0;34m\u001B[0m\u001B[0m\n\u001B[0;32m--> 294\u001B[0;31m     \u001B[0mgeneric_utils\u001B[0m\u001B[0;34m.\u001B[0m\u001B[0mvalidate_kwargs\u001B[0m\u001B[0;34m(\u001B[0m\u001B[0mkwargs\u001B[0m\u001B[0;34m,\u001B[0m \u001B[0mallowed_kwargs\u001B[0m\u001B[0;34m)\u001B[0m\u001B[0;34m\u001B[0m\u001B[0;34m\u001B[0m\u001B[0m\n\u001B[0m\u001B[1;32m    295\u001B[0m \u001B[0;34m\u001B[0m\u001B[0m\n\u001B[1;32m    296\u001B[0m     \u001B[0;31m# Mutable properties\u001B[0m\u001B[0;34m\u001B[0m\u001B[0;34m\u001B[0m\u001B[0;34m\u001B[0m\u001B[0m\n",
      "\u001B[0;32m~/opt/anaconda3/lib/python3.7/site-packages/tensorflow/python/keras/utils/generic_utils.py\u001B[0m in \u001B[0;36mvalidate_kwargs\u001B[0;34m(kwargs, allowed_kwargs, error_message)\u001B[0m\n\u001B[1;32m    790\u001B[0m   \u001B[0;32mfor\u001B[0m \u001B[0mkwarg\u001B[0m \u001B[0;32min\u001B[0m \u001B[0mkwargs\u001B[0m\u001B[0;34m:\u001B[0m\u001B[0;34m\u001B[0m\u001B[0;34m\u001B[0m\u001B[0m\n\u001B[1;32m    791\u001B[0m     \u001B[0;32mif\u001B[0m \u001B[0mkwarg\u001B[0m \u001B[0;32mnot\u001B[0m \u001B[0;32min\u001B[0m \u001B[0mallowed_kwargs\u001B[0m\u001B[0;34m:\u001B[0m\u001B[0;34m\u001B[0m\u001B[0;34m\u001B[0m\u001B[0m\n\u001B[0;32m--> 792\u001B[0;31m       \u001B[0;32mraise\u001B[0m \u001B[0mTypeError\u001B[0m\u001B[0;34m(\u001B[0m\u001B[0merror_message\u001B[0m\u001B[0;34m,\u001B[0m \u001B[0mkwarg\u001B[0m\u001B[0;34m)\u001B[0m\u001B[0;34m\u001B[0m\u001B[0;34m\u001B[0m\u001B[0m\n\u001B[0m\u001B[1;32m    793\u001B[0m \u001B[0;34m\u001B[0m\u001B[0m\n\u001B[1;32m    794\u001B[0m \u001B[0;34m\u001B[0m\u001B[0m\n",
      "\u001B[0;31mTypeError\u001B[0m: ('Keyword argument not understood:', 'border_mode')"
     ]
    }
   ],
   "source": [
    "model = createModel()\n",
    "print(\"create a new model\")"
   ]
  },
  {
   "cell_type": "code",
   "execution_count": null,
   "metadata": {
    "pycharm": {
     "name": "#%%\n"
    }
   },
   "outputs": [],
   "source": [
    "trainModel(model, image_input, steer_output)\n",
    "print(\"completed training the model\")"
   ]
  },
  {
   "cell_type": "code",
   "execution_count": null,
   "metadata": {
    "pycharm": {
     "name": "#%%\n"
    }
   },
   "outputs": [],
   "source": [
    "saveModel(model)\n"
   ]
  }
 ],
 "metadata": {
  "kernelspec": {
   "display_name": "Python 3",
   "language": "python",
   "name": "python3"
  },
  "language_info": {
   "codemirror_mode": {
    "name": "ipython",
    "version": 3
   },
   "file_extension": ".py",
   "mimetype": "text/x-python",
   "name": "python",
   "nbconvert_exporter": "python",
   "pygments_lexer": "ipython3",
   "version": "3.7.4"
  }
 },
 "nbformat": 4,
 "nbformat_minor": 2
}