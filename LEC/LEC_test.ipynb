{
 "cells": [
  {
   "cell_type": "code",
   "execution_count": 6,
   "metadata": {},
   "outputs": [
    {
     "ename": "ImportError",
     "evalue": "Keras requires TensorFlow 2.2 or higher. Install TensorFlow via `pip install tensorflow`",
     "output_type": "error",
     "traceback": [
      "\u001B[0;31m\u001B[0m",
      "\u001B[0;31mImportError\u001B[0mTraceback (most recent call last)",
      "\u001B[0;32m<ipython-input-6-abf1730f2454>\u001B[0m in \u001B[0;36m<module>\u001B[0;34m()\u001B[0m\n\u001B[1;32m      1\u001B[0m \u001B[0;34m\u001B[0m\u001B[0m\n\u001B[1;32m      2\u001B[0m \u001B[0;32mimport\u001B[0m \u001B[0mnumpy\u001B[0m \u001B[0;32mas\u001B[0m \u001B[0mnp\u001B[0m\u001B[0;34m\u001B[0m\u001B[0m\n\u001B[0;32m----> 3\u001B[0;31m \u001B[0;32mimport\u001B[0m \u001B[0mkeras\u001B[0m\u001B[0;34m\u001B[0m\u001B[0m\n\u001B[0m\u001B[1;32m      4\u001B[0m \u001B[0;32mfrom\u001B[0m \u001B[0mkeras\u001B[0m\u001B[0;34m.\u001B[0m\u001B[0mmodels\u001B[0m \u001B[0;32mimport\u001B[0m \u001B[0mmodel_from_json\u001B[0m\u001B[0;34m\u001B[0m\u001B[0m\n\u001B[1;32m      5\u001B[0m \u001B[0;32mimport\u001B[0m \u001B[0mcsv\u001B[0m\u001B[0;34m\u001B[0m\u001B[0m\n",
      "\u001B[0;32m/Library/Python/2.7/site-packages/keras/__init__.py\u001B[0m in \u001B[0;36m<module>\u001B[0;34m()\u001B[0m\n\u001B[1;32m      4\u001B[0m \u001B[0;32mexcept\u001B[0m \u001B[0mImportError\u001B[0m\u001B[0;34m:\u001B[0m\u001B[0;34m\u001B[0m\u001B[0m\n\u001B[1;32m      5\u001B[0m     raise ImportError(\n\u001B[0;32m----> 6\u001B[0;31m         \u001B[0;34m'Keras requires TensorFlow 2.2 or higher. '\u001B[0m\u001B[0;34m\u001B[0m\u001B[0m\n\u001B[0m\u001B[1;32m      7\u001B[0m         'Install TensorFlow via `pip install tensorflow`')\n\u001B[1;32m      8\u001B[0m \u001B[0;34m\u001B[0m\u001B[0m\n",
      "\u001B[0;31mImportError\u001B[0m: Keras requires TensorFlow 2.2 or higher. Install TensorFlow via `pip install tensorflow`"
     ]
    }
   ],
   "source": [
    "import numpy as np\n",
    "import keras\n",
    "from keras.models import model_from_json\n",
    "import csv\n",
    "import glob\n",
    "import cv2\n",
    "import os\n",
    "import time\n",
    "seed = 7\n",
    "np.random.seed(seed)"
   ]
  },
  {
   "cell_type": "code",
   "execution_count": null,
   "metadata": {},
   "outputs": [],
   "source": [
    "print(keras --version)"
   ]
  },
  {
   "cell_type": "code",
   "execution_count": null,
   "metadata": {},
   "outputs": [],
   "source": [
    "def nncontroller(img, model):\n",
    "    inputs = np.array(img)[np.newaxis]\n",
    "    outputs = model.predict(inputs, batch_size=1)\n",
    "    return float(outputs[0][0])"
   ]
  },
  {
   "cell_type": "code",
   "execution_count": null,
   "metadata": {},
   "outputs": [],
   "source": [
    "USBPath = \"/home/scope/Carla/CARLA_0.9.6/PythonAPI/new/dataset/\"\n"
   ]
  },
  {
   "cell_type": "code",
   "execution_count": null,
   "metadata": {},
   "outputs": [],
   "source": [
    "def predict():\n",
    "        miny=-1\n",
    "        maxy=1\n",
    "        csvfile = open(\"day-test-prediction.csv\", \"w\")\n",
    "        writer = csv.writer(csvfile)\n",
    "        numFiles = len(glob.glob1(USBPath+'/day-test','*.png'))\n",
    "        print(numFiles)\n",
    "        print(\"Total number of images collected: %d\" %numFiles)\n",
    "        for i in range(0,numFiles-1):\n",
    "            x=[]\n",
    "            data=[]\n",
    "            image=cv2.imread('/home/scope/Carla/CARLA_0.9.6/PythonAPI/new/dataset/day-test/frame%d.png'%i)\n",
    "            img = cv2.resize(image, (200, 66))\n",
    "            #print(img)\n",
    "            img = img / 255.\n",
    "            time1= time.time()\n",
    "            steer = nncontroller(img, model)\n",
    "            time2=time.time()\n",
    "            pred_time = time2 -time1\n",
    "            print(pred_time)\n",
    "            steering=(float(steer)*(maxy-miny))+miny\n",
    "            #steering=round(steering, 2)\n",
    "            data.append(pred_time)\n",
    "            data.append(steering)\n",
    "            writer.writerow(data)"
   ]
  },
  {
   "cell_type": "code",
   "execution_count": null,
   "metadata": {},
   "outputs": [],
   "source": [
    "with open('model/model.json', 'r') as jfile:\n",
    "        model = model_from_json(jfile.read())\n",
    "model.load_weights('model/weights.best.hdf5')"
   ]
  },
  {
   "cell_type": "code",
   "execution_count": null,
   "metadata": {},
   "outputs": [],
   "source": [
    "predict()"
   ]
  },
  {
   "cell_type": "code",
   "execution_count": null,
   "metadata": {},
   "outputs": [],
   "source": []
  }
 ],
 "metadata": {
  "kernelspec": {
   "name": "pycharm-6eb8c5e9",
   "language": "python",
   "display_name": "PyCharm (keras)"
  },
  "language_info": {
   "codemirror_mode": {
    "name": "ipython",
    "version": 3
   },
   "file_extension": ".py",
   "mimetype": "text/x-python",
   "name": "python",
   "nbconvert_exporter": "python",
   "pygments_lexer": "ipython3",
   "version": "3.6.9"
  }
 },
 "nbformat": 4,
 "nbformat_minor": 2
}